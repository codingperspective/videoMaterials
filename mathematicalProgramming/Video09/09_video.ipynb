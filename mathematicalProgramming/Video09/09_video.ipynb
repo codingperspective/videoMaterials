{
 "cells": [
  {
   "cell_type": "markdown",
   "metadata": {},
   "source": [
    "# Integer Programming\n",
    "\n",
    "* All decision variables are integers\n",
    "\n",
    "\\begin{align}\n",
    "\\text{maximize}\\  & \\mathbf{c}^T\\mathbf{x} \\\\\n",
    "\\text{subject to } & \\\\\n",
    "& A\\mathbf{x} &&\\leq \\mathbf{b} \\\\\n",
    "& \\mathbf{x} &&\\geq 0 \\\\\n",
    "& \\mathbf{x} \\in \\mathbb{Z}^n\n",
    "\\end{align}\n",
    "\n",
    "* Binary integer programming: Variables are restricted to be either 0 or 1\n",
    "\n",
    "# Binary Knapsack Problem\n",
    "* Combinatorial optimization problem\n",
    "* Problem of packing the most valuable or useful items without overloading the luggage. \n",
    "    * A set of items ($N$ items), each with a weight($w$) and a value($v$)\n",
    "    * Fixed capacity \n",
    "    * Maximize the total value possible\n",
    "\n",
    "<img src=\"knapsackFigure.jpg\" alt=\"Drawing\" style=\"width: 500px;\"/>"
   ]
  },
  {
   "cell_type": "markdown",
   "metadata": {},
   "source": [
    "## Problem Formulation\n",
    "\\begin{align}\n",
    "\\text{maximize}\\  & \\sum_{i=0}^{N-1}v_{i}x_{i} \\\\\n",
    "\\text{subject to } & \\\\\n",
    "& \\sum_{i=0}^{N-1}w_{i}x_{i} & \\leq C \\\\\n",
    "& x_i \\in \\{0,1\\} & \\forall i=0,\\dots,N-1\n",
    "\\end{align}\n",
    "\n",
    "## Coding in Python\n",
    "\n",
    "## Creating the data (weights and values)"
   ]
  },
  {
   "cell_type": "code",
   "execution_count": 28,
   "metadata": {},
   "outputs": [],
   "source": [
    "w = [4,2,5,4,5,1,3,5]\n",
    "v = [10,5,18,12,15,1,2,8]\n",
    "C = 15\n",
    "N = len(w)"
   ]
  },
  {
   "cell_type": "markdown",
   "metadata": {},
   "source": [
    "## Step 2: Importing docplex package"
   ]
  },
  {
   "cell_type": "code",
   "execution_count": 29,
   "metadata": {},
   "outputs": [],
   "source": [
    "from docplex.mp.model import Model"
   ]
  },
  {
   "cell_type": "markdown",
   "metadata": {},
   "source": [
    "## Step 3: Create an optimization model"
   ]
  },
  {
   "cell_type": "code",
   "execution_count": 30,
   "metadata": {},
   "outputs": [],
   "source": [
    "knapsack_model = Model('knapsack')"
   ]
  },
  {
   "cell_type": "markdown",
   "metadata": {},
   "source": [
    "## Step 4: Add multiple binary decision variables\n",
    "\n",
    "Adds a list of binary decision variables and stores them in the model.\n",
    "```python\n",
    "binary_var_list(keys,                 # sequence of objects / an integer\n",
    "                lb=None,              # lower bound\n",
    "                ub=None,              # upper bound\n",
    "                name=<type 'str'>,    # name\n",
    "                key_format=None)      # a format string or None for naming the variables\n",
    "```"
   ]
  },
  {
   "cell_type": "code",
   "execution_count": 31,
   "metadata": {},
   "outputs": [],
   "source": [
    "x = knapsack_model.binary_var_list(N, name=\"x\")"
   ]
  },
  {
   "cell_type": "markdown",
   "metadata": {},
   "source": [
    "## Step 5: Add the constraints\n",
    "\n",
    "$$\\sum_{i=1}^{N} w_{i}x_{i} \\leq C$$"
   ]
  },
  {
   "cell_type": "code",
   "execution_count": 32,
   "metadata": {},
   "outputs": [
    {
     "data": {
      "text/plain": [
       "docplex.mp.LinearConstraint[](4x_0+2x_1+5x_2+4x_3+5x_4+x_5+3x_6+5x_7,LE,15)"
      ]
     },
     "execution_count": 32,
     "metadata": {},
     "output_type": "execute_result"
    }
   ],
   "source": [
    "# \\sum_{i=1}^{N} w_{i}*x_{i} <= C\n",
    "knapsack_model.add_constraint(sum(w[i]*x[i] for i in range(N)) <= C)"
   ]
  },
  {
   "cell_type": "markdown",
   "metadata": {},
   "source": [
    "## Step 6: Define the objective function\n",
    "\n",
    "$$\\sum_{i=1}^{N} v_{i}x_{i}$$"
   ]
  },
  {
   "cell_type": "code",
   "execution_count": 33,
   "metadata": {},
   "outputs": [
    {
     "name": "stdout",
     "output_type": "stream",
     "text": [
      "Model: knapsack\n",
      " - number of variables: 8\n",
      "   - binary=8, integer=0, continuous=0\n",
      " - number of constraints: 1\n",
      "   - linear=1\n",
      " - parameters: defaults\n",
      " - objective: maximize\n",
      " - problem type is: MILP\n"
     ]
    }
   ],
   "source": [
    "# \\sum_{i=1}^{N} v_{i}*x_{i}\n",
    "obj_fn = sum(v[i]*x[i] for i in range(N))\n",
    "knapsack_model.set_objective('max',obj_fn)\n",
    "\n",
    "knapsack_model.print_information()"
   ]
  },
  {
   "cell_type": "markdown",
   "metadata": {},
   "source": [
    "## Step 7: Solve the model and output the solution"
   ]
  },
  {
   "cell_type": "code",
   "execution_count": 34,
   "metadata": {},
   "outputs": [
    {
     "name": "stdout",
     "output_type": "stream",
     "text": [
      "Optimization is done. Objective Function Value: 46.00\n",
      "objective: 46\n",
      "  x_2=1\n",
      "  x_3=1\n",
      "  x_4=1\n",
      "  x_5=1\n"
     ]
    }
   ],
   "source": [
    "knapsack_model.solve()\n",
    "print('Optimization is done. Objective Function Value: %.2f' % knapsack_model.objective_value)\n",
    "# Get values of the decision variables\n",
    "knapsack_model.print_solution()"
   ]
  },
  {
   "cell_type": "code",
   "execution_count": null,
   "metadata": {},
   "outputs": [],
   "source": []
  }
 ],
 "metadata": {
  "kernelspec": {
   "display_name": "Python 3",
   "language": "python",
   "name": "python3"
  },
  "language_info": {
   "codemirror_mode": {
    "name": "ipython",
    "version": 3
   },
   "file_extension": ".py",
   "mimetype": "text/x-python",
   "name": "python",
   "nbconvert_exporter": "python",
   "pygments_lexer": "ipython3",
   "version": "3.7.10"
  }
 },
 "nbformat": 4,
 "nbformat_minor": 4
}
