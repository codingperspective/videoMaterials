{
 "cells": [
  {
   "cell_type": "markdown",
   "metadata": {},
   "source": [
    "\n",
    "# Mixed Integer Linear Programming (MILP)\n",
    "\n",
    "## Introduction\n",
    "\n",
    "* Some variables are restricted to be integers\n",
    "* NP-complete\n",
    "* Applications\n",
    "    * Production planning\n",
    "    * Scheduling\n",
    "    * Many more...\n",
    "\n",
    "## The standard form\n",
    "\n",
    "\\begin{align}\n",
    "\\text{maximize}\\  & \\mathbf{c}^T\\mathbf{x} + \\mathbf{k}^T\\mathbf{y} \\\\\n",
    "\\text{subject to } & \\\\\n",
    "& A\\mathbf{x} &&\\leq \\mathbf{b} \\\\\n",
    "& D\\mathbf{y} &&\\leq \\mathbf{e} \\\\\n",
    "& \\mathbf{x},\\mathbf{y} &&\\geq 0 \\\\\n",
    "& \\mathbf{x} \\in \\mathbb{Z}^n\n",
    "\\end{align}\n",
    "where $A, D \\in \\mathbb{R}^{m\\times n}$ are matrices, $\\mathbf{b}, \\mathbf{e}\\in\\mathbb{R}^{m}$ are constants, $\\mathbf{c}, \\mathbf{k} \\in \\mathbb{R}^{n}$ objective function coefficients, and $\\mathbf{x}, \\mathbf{y} \\in\\mathbb{R}^{n}$ are the decision variables.\n",
    "\n",
    "\n",
    "## CPLEX basics: Mixed Integer Programming Model\n",
    "## Mathematical Model\n",
    "\\begin{align}\n",
    "\\text{maximize}\\  & 2x + y + 3z \\\\\n",
    "\\text{subject to } & \\\\\n",
    "& x+2y+z &&\\leq 4 \\\\\n",
    "& 2z + y &&\\leq 5 \\\\\n",
    "& x + y &&\\geq 1 \\\\\n",
    "& x &&\\in \\{0,1\\} \\\\\n",
    "& y, z \\geq 0 \\\\\n",
    "& z \\in \\mathbb{Z}\n",
    "\\end{align}"
   ]
  },
  {
   "cell_type": "markdown",
   "metadata": {},
   "source": [
    "# Code in Python using docplex\n",
    "## Step 1: Importing Model from docplex package"
   ]
  },
  {
   "cell_type": "code",
   "execution_count": null,
   "metadata": {},
   "outputs": [],
   "source": [
    "from docplex.mp.model import Model"
   ]
  },
  {
   "cell_type": "markdown",
   "metadata": {},
   "source": [
    "## Step 2: Create an optimization model"
   ]
  },
  {
   "cell_type": "code",
   "execution_count": null,
   "metadata": {},
   "outputs": [],
   "source": [
    "milp_model = Model(name = \"MILP\")"
   ]
  },
  {
   "cell_type": "markdown",
   "metadata": {},
   "source": [
    "## Step 3: Add decision variables"
   ]
  },
  {
   "cell_type": "code",
   "execution_count": null,
   "metadata": {},
   "outputs": [],
   "source": [
    "x = milp_model.binary_var(name = 'x')\n",
    "y = milp_model.continuous_var(name = 'y', lb = 0)\n",
    "z = milp_model.integer_var(name=\"z\", lb=0)"
   ]
  },
  {
   "cell_type": "markdown",
   "metadata": {},
   "source": [
    "## Step 4: Add the constraints"
   ]
  },
  {
   "cell_type": "code",
   "execution_count": null,
   "metadata": {},
   "outputs": [],
   "source": [
    "# Add constraint: x + 2 y + z <= 4\n",
    "c1 = milp_model.add_constraint(x + 2 * y + z <= 4, ctname = \"c1\")\n",
    "\n",
    "# Add constraint: 2 z + y <= 5 \\\\\n",
    "c2 = milp_model.add_constraint(2 * z + y <= 5, ctname = \"c2\")\n",
    "\n",
    "# Add constraint x + y >= 1\n",
    "c3 = milp_model.add_constraint(x + y >= 1, ctname = \"c3\")"
   ]
  },
  {
   "cell_type": "markdown",
   "metadata": {},
   "source": [
    "## Step 5: Define the objective function"
   ]
  },
  {
   "cell_type": "code",
   "execution_count": null,
   "metadata": {},
   "outputs": [],
   "source": [
    "obj_fn = 2 * x + y + 3 * z\n",
    "milp_model.set_objective('max', obj_fn)\n",
    "\n",
    "milp_model.print_information()"
   ]
  },
  {
   "cell_type": "markdown",
   "metadata": {},
   "source": [
    "## Step 6: Solve the model"
   ]
  },
  {
   "cell_type": "code",
   "execution_count": null,
   "metadata": {},
   "outputs": [],
   "source": [
    "milp_model.solve()"
   ]
  },
  {
   "cell_type": "markdown",
   "metadata": {},
   "source": [
    "## Step 7: Output the result"
   ]
  },
  {
   "cell_type": "code",
   "execution_count": null,
   "metadata": {},
   "outputs": [],
   "source": [
    "milp_model.print_solution()"
   ]
  },
  {
   "cell_type": "code",
   "execution_count": null,
   "metadata": {},
   "outputs": [],
   "source": []
  }
 ],
 "metadata": {
  "kernelspec": {
   "display_name": "Python 3",
   "language": "python",
   "name": "python3"
  },
  "language_info": {
   "codemirror_mode": {
    "name": "ipython",
    "version": 3
   },
   "file_extension": ".py",
   "mimetype": "text/x-python",
   "name": "python",
   "nbconvert_exporter": "python",
   "pygments_lexer": "ipython3",
   "version": "3.7.10"
  }
 },
 "nbformat": 4,
 "nbformat_minor": 4
}
