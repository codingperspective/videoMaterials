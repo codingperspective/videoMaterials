{
 "cells": [
  {
   "cell_type": "markdown",
   "id": "99bb388f",
   "metadata": {},
   "source": [
    "# Assignment Problem\n",
    "\n",
    "A fundamental combinatorial optimization problem.\n",
    "\n",
    "- $n$ tasks to be done\n",
    "- $n$ workers to do the tasks\n",
    "- Each worker has a certain cost for each task ($c_{ij}$)\n",
    "\n",
    "Problem: Find the best assignment of all tasks that minimizes the total cost.\n",
    "\n",
    "Constraints:\n",
    "* Each worker can do at most one task\n",
    "* All tasks need to be done\n",
    "\n",
    "# Mathematical Formulation\n",
    "\n",
    "\\begin{align}\n",
    "\\text{minimize} & \\sum_{i = 1}^{n}\\sum_{j = 1}^{n} c_{ij}x_{ij}, \\\\\n",
    "\\text{subject to} & \\\\\n",
    "& \\sum_{i = 1}^{n} x_{ij} \\leq 1 & \\forall j = 1, ..., n & \\ \\ \\textit{ (workload)},\\\\\n",
    "& \\sum_{j = 1}^{n} x_{ij} = 1 & \\forall i = 1, ..., n & \\ \\ \\textit{ (task completion)}, \\\\\n",
    "& x_{ij} \\in \\{0,1\\} & \\forall i,j = 1, ..., n\n",
    "\\end{align}\n",
    "\n",
    "where $x_{ij}$ is 1 if worker $i$ performs task $j$, 0 otherwise.\n",
    "\n",
    "We can replace the integrality constraints with continuous constraints. The solution will not change as the constraint matrix is totally unimodular.\n",
    "\n",
    "# Coding in Python using docplex\n",
    "## Step 1: Creating input data (cost matrix)"
   ]
  },
  {
   "cell_type": "code",
   "execution_count": 1,
   "id": "6f2ced5f",
   "metadata": {},
   "outputs": [],
   "source": [
    "import numpy as np\n",
    "cost = np.random.randint(1, 10, (4,4))"
   ]
  },
  {
   "cell_type": "markdown",
   "id": "b37ecc03",
   "metadata": {},
   "source": [
    "## Step 2: Importing docplex package"
   ]
  },
  {
   "cell_type": "code",
   "execution_count": 2,
   "id": "47a75c78",
   "metadata": {},
   "outputs": [],
   "source": [
    "from docplex.mp.model import Model"
   ]
  },
  {
   "cell_type": "markdown",
   "id": "c5812b15",
   "metadata": {},
   "source": [
    "## Step 3: Creating the model"
   ]
  },
  {
   "cell_type": "code",
   "execution_count": 3,
   "id": "0d43d5ef",
   "metadata": {},
   "outputs": [],
   "source": [
    "assignment_model = Model('Assignment')"
   ]
  },
  {
   "cell_type": "markdown",
   "id": "c4d941bd",
   "metadata": {},
   "source": [
    "## Step 4: Creating decision variables"
   ]
  },
  {
   "cell_type": "code",
   "execution_count": 4,
   "id": "73e0f59e",
   "metadata": {},
   "outputs": [],
   "source": [
    "x = assignment_model.binary_var_matrix(cost.shape[0], \n",
    "                                       cost.shape[1], \n",
    "                                       name=\"x\")"
   ]
  },
  {
   "cell_type": "markdown",
   "id": "4949036a",
   "metadata": {},
   "source": [
    "## Step 5: Adding the constraints\n",
    "\\begin{align}\n",
    "\\sum_{i = 1}^{n} x_{ij} \\leq 1 &\\qquad \\forall j = 1, ..., n & \\ \\ \\textit{ (workload)},\\\\\n",
    "\\sum_{j = 1}^{n} x_{ij} = 1 & \\qquad \\forall i = 1, ..., n & \\ \\ \\textit{ (task completion)}.\n",
    "\\end{align}"
   ]
  },
  {
   "cell_type": "code",
   "execution_count": 5,
   "id": "97900890",
   "metadata": {},
   "outputs": [
    {
     "data": {
      "text/plain": [
       "[docplex.mp.LinearConstraint[task_completion1](x_0_0+x_0_1+x_0_2+x_0_3,EQ,1),\n",
       " docplex.mp.LinearConstraint[task_completion2](x_1_0+x_1_1+x_1_2+x_1_3,EQ,1),\n",
       " docplex.mp.LinearConstraint[task_completion3](x_2_0+x_2_1+x_2_2+x_2_3,EQ,1),\n",
       " docplex.mp.LinearConstraint[task_completion4](x_3_0+x_3_1+x_3_2+x_3_3,EQ,1)]"
      ]
     },
     "execution_count": 5,
     "metadata": {},
     "output_type": "execute_result"
    }
   ],
   "source": [
    "# sum_{i = 1}^{n} x_{ij} <= 1 for all j\n",
    "assignment_model.add_constraints((sum(x[i,j] for i in range(cost.shape[0])) <= 1 \n",
    "                                  for j in range(cost.shape[1])), \n",
    "                                 names = 'work_load')\n",
    "\n",
    "# sum_{j = 1}^{n} x_{ij}  = 1 for all i\n",
    "assignment_model.add_constraints((sum(x[i,j] for j in range(cost.shape[1])) == 1 \n",
    "                                  for i in range(cost.shape[0])),\n",
    "                                names = 'task_completion')"
   ]
  },
  {
   "cell_type": "markdown",
   "id": "7f30b9fa",
   "metadata": {},
   "source": [
    "## Step 6: Defining the objective function\n",
    "$$\\sum_{i = 1}^{n}\\sum_{j = 1}^{n} c_{ij}x_{ij}$$"
   ]
  },
  {
   "cell_type": "code",
   "execution_count": 6,
   "id": "169c058d",
   "metadata": {},
   "outputs": [
    {
     "name": "stdout",
     "output_type": "stream",
     "text": [
      "Model: Assignment\n",
      " - number of variables: 16\n",
      "   - binary=16, integer=0, continuous=0\n",
      " - number of constraints: 8\n",
      "   - linear=8\n",
      " - parameters: defaults\n",
      " - objective: minimize\n",
      " - problem type is: MILP\n"
     ]
    }
   ],
   "source": [
    "obj_fn = sum(cost[i,j]*x[i,j] for i in range(cost.shape[0]) for j in range(cost.shape[1]))\n",
    "\n",
    "assignment_model.set_objective('min',obj_fn)\n",
    "\n",
    "assignment_model.print_information()"
   ]
  },
  {
   "cell_type": "markdown",
   "id": "dc02a934",
   "metadata": {},
   "source": [
    "## Inspect model by printing"
   ]
  },
  {
   "cell_type": "code",
   "execution_count": 8,
   "id": "83d6ce64",
   "metadata": {},
   "outputs": [
    {
     "name": "stdout",
     "output_type": "stream",
     "text": [
      "\\ This file has been generated by DOcplex\n",
      "\\ ENCODING=ISO-8859-1\n",
      "\\Problem name: Assignment\n",
      "\n",
      "Minimize\n",
      " obj: 6 x_0_0 + 7 x_0_1 + 5 x_0_2 + 8 x_0_3 + 6 x_1_0 + 7 x_1_1 + 2 x_1_2\n",
      "      + 2 x_1_3 + 2 x_2_0 + x_2_1 + 2 x_2_2 + 7 x_2_3 + x_3_0 + x_3_1 + 8 x_3_2\n",
      "      + x_3_3\n",
      "Subject To\n",
      " work_load1: x_0_0 + x_1_0 + x_2_0 + x_3_0 <= 1\n",
      " work_load2: x_0_1 + x_1_1 + x_2_1 + x_3_1 <= 1\n",
      " work_load3: x_0_2 + x_1_2 + x_2_2 + x_3_2 <= 1\n",
      " work_load4: x_0_3 + x_1_3 + x_2_3 + x_3_3 <= 1\n",
      " task_completion1: x_0_0 + x_0_1 + x_0_2 + x_0_3 = 1\n",
      " task_completion2: x_1_0 + x_1_1 + x_1_2 + x_1_3 = 1\n",
      " task_completion3: x_2_0 + x_2_1 + x_2_2 + x_2_3 = 1\n",
      " task_completion4: x_3_0 + x_3_1 + x_3_2 + x_3_3 = 1\n",
      "\n",
      "Bounds\n",
      " 0 <= x_0_0 <= 1\n",
      " 0 <= x_0_1 <= 1\n",
      " 0 <= x_0_2 <= 1\n",
      " 0 <= x_0_3 <= 1\n",
      " 0 <= x_1_0 <= 1\n",
      " 0 <= x_1_1 <= 1\n",
      " 0 <= x_1_2 <= 1\n",
      " 0 <= x_1_3 <= 1\n",
      " 0 <= x_2_0 <= 1\n",
      " 0 <= x_2_1 <= 1\n",
      " 0 <= x_2_2 <= 1\n",
      " 0 <= x_2_3 <= 1\n",
      " 0 <= x_3_0 <= 1\n",
      " 0 <= x_3_1 <= 1\n",
      " 0 <= x_3_2 <= 1\n",
      " 0 <= x_3_3 <= 1\n",
      "\n",
      "Binaries\n",
      " x_0_0 x_0_1 x_0_2 x_0_3 x_1_0 x_1_1 x_1_2 x_1_3 x_2_0 x_2_1 x_2_2 x_2_3 x_3_0\n",
      " x_3_1 x_3_2 x_3_3\n",
      "End\n",
      "\n"
     ]
    }
   ],
   "source": [
    "print(assignment_model.export_as_lp_string())"
   ]
  },
  {
   "cell_type": "markdown",
   "id": "35c9130d",
   "metadata": {},
   "source": [
    "## Step 7: Solve the model and output the solution"
   ]
  },
  {
   "cell_type": "code",
   "execution_count": 9,
   "id": "0a3a18f5",
   "metadata": {},
   "outputs": [
    {
     "name": "stdout",
     "output_type": "stream",
     "text": [
      "Optimization is done. Objective Function Value: 9.00\n",
      "objective: 9\n",
      "  x_0_2=1\n",
      "  x_1_3=1\n",
      "  x_2_1=1\n",
      "  x_3_0=1\n"
     ]
    }
   ],
   "source": [
    "assignment_model.solve()\n",
    "\n",
    "print('Optimization is done. Objective Function Value: %.2f' % assignment_model.objective_value)\n",
    "\n",
    "# Get values of the decision variables\n",
    "assignment_model.print_solution()"
   ]
  },
  {
   "cell_type": "markdown",
   "id": "bc61d73e",
   "metadata": {},
   "source": [
    "# Relaxing the binary constraint"
   ]
  },
  {
   "cell_type": "code",
   "execution_count": 10,
   "id": "3b63a4e2",
   "metadata": {},
   "outputs": [
    {
     "name": "stdout",
     "output_type": "stream",
     "text": [
      "Optimization is done. Objective Function Value: 9.00\n",
      "objective: 9.000\n",
      "  x_0_2=1.000\n",
      "  x_1_3=1.000\n",
      "  x_2_1=1.000\n",
      "  x_3_0=1.000\n"
     ]
    }
   ],
   "source": [
    "assignment_model_2 = Model('Assignment_2')\n",
    "\n",
    "y = assignment_model_2.continuous_var_matrix(cost.shape[0], \n",
    "                                             cost.shape[1], \n",
    "                                             lb = 0, ub = 1, \n",
    "                                             name=\"x\")\n",
    "\n",
    "# sum_{i = 1}^{n} y_{ij} <= 1 for all j\n",
    "assignment_model_2.add_constraints((sum(y[i,j] for i in range(cost.shape[0])) == 1 \n",
    "                                    for j in range(cost.shape[1])), \n",
    "                                   names = 'work_load')\n",
    "\n",
    "# sum_{j = 1}^{n} y_{ij}  = 1 for all i\n",
    "assignment_model_2.add_constraints((sum(y[i,j] for j in range(cost.shape[1])) == 1 \n",
    "                                    for i in range(cost.shape[0])),\n",
    "                                  names = 'task_completion')\n",
    "\n",
    "obj_fn = sum(cost[i,j]*y[i,j] for i in range(cost.shape[0]) for j in range(cost.shape[1]))\n",
    "assignment_model_2.set_objective('min', obj_fn)\n",
    "\n",
    "assignment_model_2.solve()\n",
    "\n",
    "print('Optimization is done. Objective Function Value: %.2f' % assignment_model.objective_value)\n",
    "\n",
    "# Get values of the decision variables\n",
    "assignment_model_2.print_solution()"
   ]
  },
  {
   "cell_type": "code",
   "execution_count": null,
   "id": "948aeaf5",
   "metadata": {},
   "outputs": [],
   "source": []
  }
 ],
 "metadata": {
  "kernelspec": {
   "display_name": "Python 3",
   "language": "python",
   "name": "python3"
  },
  "language_info": {
   "codemirror_mode": {
    "name": "ipython",
    "version": 3
   },
   "file_extension": ".py",
   "mimetype": "text/x-python",
   "name": "python",
   "nbconvert_exporter": "python",
   "pygments_lexer": "ipython3",
   "version": "3.7.10"
  }
 },
 "nbformat": 4,
 "nbformat_minor": 5
}
