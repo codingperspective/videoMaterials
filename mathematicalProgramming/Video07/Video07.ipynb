{
 "cells": [
  {
   "cell_type": "markdown",
   "metadata": {},
   "source": [
    "# CPLEX Basics on Linear Programming\n",
    "\n",
    "## Introduction\n",
    "* Widely used\n",
    "* Used to represent many practical problems\n",
    "* Elements\n",
    "    * A linear objective function\n",
    "    * Linear (in)equalities\n",
    "    \n",
    "\n",
    "## The standard Form\n",
    "\\begin{align}\n",
    "\\text{minimize}\\  & f(x) \\\\\n",
    "\\text{subject to } & \\\\\n",
    "& a_1x &&\\geq b_1 \\\\\n",
    "& a_2x + c && \\geq b_2 \\\\\n",
    "& x &&\\geq 0\n",
    "\\end{align}\n",
    "\n"
   ]
  },
  {
   "cell_type": "markdown",
   "metadata": {},
   "source": [
    "# CPLEX Basics: Linear Model\n",
    "## Mathematical Model\n",
    "\\begin{align}\n",
    "\\text{minimize}\\  & 5x + 4y \\\\\n",
    "\\text{subject to } & \\\\\n",
    "& \\ \\ x+\\ \\ y &&\\geq \\ \\ 8 \\\\\n",
    "& 2x + \\ \\ y &&\\geq 10 \\\\\n",
    "& \\ \\ x + 4y &&\\geq 11 \\\\\n",
    "& \\ \\ x &&\\geq \\ \\ 0 \\\\\n",
    "& \\ \\ \\ \\ \\ \\ \\ \\ \\ \\ \\ y &&\\geq \\ \\ 0\n",
    "\\end{align}\n",
    "\n",
    "## Graphical representation of the problem\n"
   ]
  },
  {
   "cell_type": "code",
   "execution_count": null,
   "metadata": {
    "scrolled": false
   },
   "outputs": [],
   "source": [
    "from IPython.display import Image\n",
    "from IPython.display import display\n",
    "graphs = ['fr', 'fr_o1', 'fr_o3']\n",
    "for g in graphs:\n",
    "    display(Image(filename = g+'.png'))"
   ]
  },
  {
   "cell_type": "markdown",
   "metadata": {},
   "source": [
    "# Code in Python using docplex\n",
    "## Step 1: Importing docplex package"
   ]
  },
  {
   "cell_type": "code",
   "execution_count": null,
   "metadata": {},
   "outputs": [],
   "source": [
    "from docplex.mp.model import Model"
   ]
  },
  {
   "cell_type": "markdown",
   "metadata": {},
   "source": [
    "## Step 2: Create an optimization model\n",
    "Model constructor. Initially, no variables or constraints.\n",
    "``` python\n",
    "Model(name = '')\n",
    "```"
   ]
  },
  {
   "cell_type": "code",
   "execution_count": null,
   "metadata": {},
   "outputs": [],
   "source": [
    "opt_mod = Model(name = \"Linear Program\")"
   ]
  },
  {
   "cell_type": "markdown",
   "metadata": {},
   "source": [
    "## Step 3: Add decision variables\n",
    "Add a continuous decision variable to a model.\n",
    "``` python\n",
    "\n",
    "Model.continuous_var(lb=None,   #(optional) lower bound, default is 0.\n",
    "                     ub=None,   #(optional) upper bound, default is infinity.\n",
    "                     name=None) #(optional) name\n",
    "             \n",
    "```"
   ]
  },
  {
   "cell_type": "code",
   "execution_count": null,
   "metadata": {},
   "outputs": [],
   "source": [
    "x = opt_mod.continuous_var(name = 'x', lb = 0)\n",
    "y = opt_mod.continuous_var(name = 'y', lb = 0)"
   ]
  },
  {
   "cell_type": "markdown",
   "metadata": {},
   "source": [
    "## Step 4: Add the constraints\n",
    "Add a constraint to a model. \n",
    "```python\n",
    "Model.add_constraint(ct,            # <exp1> <operator> <exp2> \n",
    "                     ctname = None) # name of the constraint\n",
    "```"
   ]
  },
  {
   "cell_type": "code",
   "execution_count": null,
   "metadata": {},
   "outputs": [],
   "source": [
    "c1 = opt_mod.add_constraint(  x +   y >=  8, ctname = 'c1')\n",
    "c2 = opt_mod.add_constraint(2*x +   y >= 10, ctname = 'c2')\n",
    "c3 = opt_mod.add_constraint(  x + 4*y >= 11, ctname = 'c3')"
   ]
  },
  {
   "cell_type": "markdown",
   "metadata": {},
   "source": [
    "## Step 5: Define the objective function\n",
    "Set the model objective equal to a expression\n",
    "``` python\n",
    "Model.set_objective(sense, # “max” for maximization, “min” for minimization \n",
    "                    expr)  # New objective expression\n",
    "\n",
    "```"
   ]
  },
  {
   "cell_type": "code",
   "execution_count": null,
   "metadata": {
    "scrolled": true
   },
   "outputs": [],
   "source": [
    "obj_fn = 5*x + 4*y\n",
    "opt_mod.set_objective('min', obj_fn)\n",
    "\n",
    "opt_mod.print_information()"
   ]
  },
  {
   "cell_type": "markdown",
   "metadata": {},
   "source": [
    "## Step 6: Solve the model\n",
    "\n",
    "``` python\n",
    "Model.solve() # solve the model\n",
    "```"
   ]
  },
  {
   "cell_type": "code",
   "execution_count": null,
   "metadata": {},
   "outputs": [],
   "source": [
    "opt_mod.solve() # solve the model"
   ]
  },
  {
   "cell_type": "markdown",
   "metadata": {},
   "source": [
    "## Step 7: Output the result"
   ]
  },
  {
   "cell_type": "code",
   "execution_count": null,
   "metadata": {},
   "outputs": [],
   "source": [
    "opt_mod.print_solution()"
   ]
  },
  {
   "cell_type": "code",
   "execution_count": null,
   "metadata": {},
   "outputs": [],
   "source": []
  }
 ],
 "metadata": {
  "kernelspec": {
   "display_name": "Python 3",
   "language": "python",
   "name": "python3"
  },
  "language_info": {
   "codemirror_mode": {
    "name": "ipython",
    "version": 3
   },
   "file_extension": ".py",
   "mimetype": "text/x-python",
   "name": "python",
   "nbconvert_exporter": "python",
   "pygments_lexer": "ipython3",
   "version": "3.7.10"
  }
 },
 "nbformat": 4,
 "nbformat_minor": 4
}
