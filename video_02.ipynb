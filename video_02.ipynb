{
 "cells": [
  {
   "cell_type": "markdown",
   "metadata": {},
   "source": [
    "# Linear Programming\n",
    "\n",
    "## Introduction\n",
    "* Widely used\n",
    "* Used to represent many practical problems\n",
    "* Elements\n",
    "    * A linear objective function\n",
    "    * Linear (in)equalities\n",
    "    \n",
    "\n",
    "## The standard Form\n",
    "\\begin{align}\n",
    "\\text{minimize}\\  & f(x) \\\\\n",
    "\\text{subject to } & \\\\\n",
    "& a_1x &&\\geq b_1 \\\\\n",
    "& a_2x + c && \\geq b_2 \\\\\n",
    "& x &&\\geq 0\n",
    "\\end{align}\n",
    "\n"
   ]
  },
  {
   "cell_type": "markdown",
   "metadata": {},
   "source": [
    "# Gurobi Basics: Linear Model\n",
    "## Mathematical Model\n",
    "\\begin{align}\n",
    "\\text{minimize}\\  & 5x + 4y \\\\\n",
    "\\text{subject to } & \\\\\n",
    "& \\ \\ x+\\ \\ y &&\\geq \\ \\ 8 \\\\\n",
    "& 2x + \\ \\ y &&\\geq 10 \\\\\n",
    "& \\ \\ x + 4y &&\\geq 11 \\\\\n",
    "& \\ \\ x &&\\geq \\ \\ 0 \\\\\n",
    "& \\ \\ \\ \\ \\ \\ \\ \\ \\ \\ \\ y &&\\geq \\ \\ 0\n",
    "\\end{align}\n",
    "\n",
    "## Graphical representation of the problem\n"
   ]
  },
  {
   "cell_type": "code",
   "execution_count": null,
   "metadata": {
    "scrolled": false
   },
   "outputs": [],
   "source": [
    "from IPython.display import Image\n",
    "from IPython.display import display\n",
    "graphs = ['fr', 'fr_o1', 'fr_o3']\n",
    "for g in graphs:\n",
    "    display(Image(filename = g+'.png'))"
   ]
  },
  {
   "cell_type": "markdown",
   "metadata": {},
   "source": [
    "# Code in Python using gurobipy\n",
    "## Step 1: Importing gurobipy package"
   ]
  },
  {
   "cell_type": "code",
   "execution_count": null,
   "metadata": {},
   "outputs": [],
   "source": [
    "from gurobipy import *"
   ]
  },
  {
   "cell_type": "markdown",
   "metadata": {},
   "source": [
    "## Step 2: Create an optimization model\n",
    "Model constructor. Initially, no variables or constraints.\n",
    "``` python\n",
    "Model(name = '')\n",
    "```"
   ]
  },
  {
   "cell_type": "code",
   "execution_count": null,
   "metadata": {},
   "outputs": [],
   "source": [
    "opt_mod = Model(name = \"linear program\")"
   ]
  },
  {
   "cell_type": "markdown",
   "metadata": {},
   "source": [
    "## Step 3: Add decision variables\n",
    "Add a decision variable to a model.\n",
    "``` python\n",
    "\n",
    "Model.addVar(lb = 0.0,               #(optional) lower bound\n",
    "             ub = float('inf'),      #(optional) upper bound\n",
    "             obj = 0.0,              #(optional) objective coefficient\n",
    "             vtype = GRB.CONTINUOUS, #(optional) variable type\n",
    "             name = \"\")              #(optional) name\n",
    "             \n",
    "```"
   ]
  },
  {
   "cell_type": "code",
   "execution_count": null,
   "metadata": {},
   "outputs": [],
   "source": [
    "x = opt_mod.addVar(name = 'x', vtype = GRB.CONTINUOUS, lb = 0)\n",
    "y = opt_mod.addVar(name = 'y', vtype = GRB.CONTINUOUS, lb = 0)"
   ]
  },
  {
   "cell_type": "markdown",
   "metadata": {},
   "source": [
    "## Step 4: Define the objective function\n",
    "Set the model objective equal to a expression\n",
    "``` python\n",
    "\n",
    "Model.setObjective(expr,            #New objective expression \n",
    "                   sense = None)    #GRB.MINIMIZE for minimization, \n",
    "                                    #GRB.MAXIMIZE for maximization\n",
    "```"
   ]
  },
  {
   "cell_type": "code",
   "execution_count": null,
   "metadata": {},
   "outputs": [],
   "source": [
    "obj_fn = 5*x + 4*y\n",
    "opt_mod.setObjective(obj_fn, GRB.MINIMIZE)"
   ]
  },
  {
   "cell_type": "markdown",
   "metadata": {},
   "source": [
    "## Step 5: Add the constraints\n",
    "Add a constraint to a model. \n",
    "```python\n",
    "Model.addConstr(constr,  # constraint object \n",
    "                name=\"\") # name of the constraint\n",
    "```"
   ]
  },
  {
   "cell_type": "code",
   "execution_count": null,
   "metadata": {},
   "outputs": [],
   "source": [
    "c1 = opt_mod.addConstr(  x +   y >=  8, name = 'c1')\n",
    "c2 = opt_mod.addConstr(2*x +   y >= 10, name = 'c2')\n",
    "c3 = opt_mod.addConstr(  x + 4*y >= 11, name = 'c3')"
   ]
  },
  {
   "cell_type": "markdown",
   "metadata": {},
   "source": [
    "## Step 6: Solve the model\n",
    "\n",
    "``` python\n",
    "Model.optimize() # optimize the model\n",
    "\n",
    "Model.write(filename) # write model to a file\n",
    "```"
   ]
  },
  {
   "cell_type": "code",
   "execution_count": null,
   "metadata": {},
   "outputs": [],
   "source": [
    "opt_mod.optimize() # solve the model\n",
    "opt_mod.write(\"linear_model.lp\") # output the LP file of the model"
   ]
  },
  {
   "cell_type": "markdown",
   "metadata": {},
   "source": [
    "## Step 7: Output the result"
   ]
  },
  {
   "cell_type": "code",
   "execution_count": null,
   "metadata": {},
   "outputs": [],
   "source": [
    "print('Objective Function Value: %f' % opt_mod.objVal)\n",
    "# Get values of the decision variables\n",
    "for v in opt_mod.getVars():\n",
    "    print('%s: %g' % (v.varName, v.x))"
   ]
  }
 ],
 "metadata": {
  "kernelspec": {
   "display_name": "Python 3",
   "language": "python",
   "name": "python3"
  },
  "language_info": {
   "codemirror_mode": {
    "name": "ipython",
    "version": 3
   },
   "file_extension": ".py",
   "mimetype": "text/x-python",
   "name": "python",
   "nbconvert_exporter": "python",
   "pygments_lexer": "ipython3",
   "version": "3.7.10"
  }
 },
 "nbformat": 4,
 "nbformat_minor": 4
}
