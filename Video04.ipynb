{
 "cells": [
  {
   "cell_type": "markdown",
   "metadata": {},
   "source": [
    "# Integer Programming\n",
    "\n",
    "* All decision variables are integers\n",
    "\n",
    "\\begin{align}\n",
    "\\text{maximize}\\  & \\mathbf{c}^T\\mathbf{x} \\\\\n",
    "\\text{subject to } & \\\\\n",
    "& A\\mathbf{x} &&\\leq \\mathbf{b} \\\\\n",
    "& \\mathbf{x} &&\\geq 0 \\\\\n",
    "& \\mathbf{x} \\in \\mathbb{Z}^n\n",
    "\\end{align}\n",
    "\n",
    "* Binary integer programming: Variables are restricted to be either 0 or 1\n",
    "\n",
    "# Binary Knapsack Problem\n",
    "* Combinatorial optimization problem\n",
    "* Problem of packing the most valuable or useful items without overloading the luggage. \n",
    "    * A set of items ($N$ items), each with a weight($w$) and a value($v$)\n",
    "    * Fixed capacity \n",
    "    * Maximize the total value possible\n",
    "\n",
    "<img src=\"knapsackFigure.jpg\" alt=\"Drawing\" style=\"width: 500px;\"/>"
   ]
  },
  {
   "cell_type": "markdown",
   "metadata": {},
   "source": [
    "## Problem Formulation\n",
    "\\begin{align}\n",
    "\\text{maximize}\\  & \\sum_{i=0}^{N-1}v_{i}x_{i} \\\\\n",
    "\\text{subject to } & \\\\\n",
    "& \\sum_{i=0}^{N-1}w_{i}x_{i} & \\leq C \\\\\n",
    "& x_i \\in \\{0,1\\} & \\forall i=0,\\dots,N-1\n",
    "\\end{align}\n",
    "\n",
    "## Coding in Python\n",
    "\n",
    "## Creating the data (weights and values)"
   ]
  },
  {
   "cell_type": "code",
   "execution_count": null,
   "metadata": {},
   "outputs": [],
   "source": [
    "w = [4,2,5,4,5,1,3,5]\n",
    "v = [10,5,18,12,15,1,2,8]\n",
    "C = 15\n",
    "N = len(w)"
   ]
  },
  {
   "cell_type": "markdown",
   "metadata": {},
   "source": [
    "## Step 2: Importing gurobipy package"
   ]
  },
  {
   "cell_type": "code",
   "execution_count": null,
   "metadata": {},
   "outputs": [],
   "source": [
    "from gurobipy import *"
   ]
  },
  {
   "cell_type": "markdown",
   "metadata": {},
   "source": [
    "## Step 3: Create an optimization model"
   ]
  },
  {
   "cell_type": "code",
   "execution_count": null,
   "metadata": {},
   "outputs": [],
   "source": [
    "knapsack_model = Model('knapsack')"
   ]
  },
  {
   "cell_type": "markdown",
   "metadata": {},
   "source": [
    "## Step 4: Add multiple binary decision variables\n",
    "\n",
    "Adds multiple decision variables and stores them in the model.\n",
    "```python\n",
    "addVars(*indices, \n",
    "        lb=0.0, \n",
    "        ub=float('inf'), \n",
    "        obj=0.0, \n",
    "        vtype=GRB.CONTINUOUS, \n",
    "        name=\"\" \n",
    "```"
   ]
  },
  {
   "cell_type": "code",
   "execution_count": null,
   "metadata": {},
   "outputs": [],
   "source": [
    "x = knapsack_model.addVars(N, vtype = GRB.BINARY, name=\"x\")"
   ]
  },
  {
   "cell_type": "markdown",
   "metadata": {},
   "source": [
    "## Step 5: Add the constraints\n",
    "\n",
    "$$\\sum_{i=1}^{N} w_{i}x_{i} \\leq C$$"
   ]
  },
  {
   "cell_type": "code",
   "execution_count": null,
   "metadata": {},
   "outputs": [],
   "source": [
    "# \\sum_{i=1}^{N} w_{i}*x_{i} <= C\n",
    "knapsack_model.addConstr(sum(w[i]*x[i] for i in range(N)) <= C)"
   ]
  },
  {
   "cell_type": "markdown",
   "metadata": {},
   "source": [
    "## Step 6: Define the objective function\n",
    "\n",
    "$$\\sum_{i=1}^{N} v_{i}x_{i}$$"
   ]
  },
  {
   "cell_type": "code",
   "execution_count": null,
   "metadata": {},
   "outputs": [],
   "source": [
    "# \\sum_{i=1}^{N} v_{i}*x_{i}\n",
    "obj_fn = sum(v[i]*x[i] for i in range(N))\n",
    "knapsack_model.setObjective(obj_fn, GRB.MAXIMIZE)"
   ]
  },
  {
   "cell_type": "markdown",
   "metadata": {},
   "source": [
    "## Step 7: Solve the model and output the solution"
   ]
  },
  {
   "cell_type": "code",
   "execution_count": null,
   "metadata": {},
   "outputs": [],
   "source": [
    "knapsack_model.optimize()\n",
    "print('Optimization is done. Objective Function Value: %.2f' % knapsack_model.objVal)\n",
    "# Get values of the decision variables\n",
    "\n",
    "for v in knapsack_model.getVars():\n",
    "    print('%s: %g' % (v.varName, v.x))"
   ]
  },
  {
   "cell_type": "code",
   "execution_count": null,
   "metadata": {},
   "outputs": [],
   "source": []
  }
 ],
 "metadata": {
  "kernelspec": {
   "display_name": "Python 3",
   "language": "python",
   "name": "python3"
  },
  "language_info": {
   "codemirror_mode": {
    "name": "ipython",
    "version": 3
   },
   "file_extension": ".py",
   "mimetype": "text/x-python",
   "name": "python",
   "nbconvert_exporter": "python",
   "pygments_lexer": "ipython3",
   "version": "3.7.10"
  }
 },
 "nbformat": 4,
 "nbformat_minor": 4
}
