{
 "cells": [
  {
   "cell_type": "markdown",
   "metadata": {},
   "source": [
    "# Quadratic Programming\n",
    "\n",
    "- Mathematical optimization problems with quadratic functions\n",
    "- Developed in the 1950s\n",
    "- Widely used in\n",
    "    - Optimization of financial portfolios,\n",
    "    - Image and signal processing,\n",
    "    - Regression,\n",
    "    - Scheduling in chemical plants, etc.\n",
    "- Solution methods\n",
    "    - Interior point,\n",
    "    - Augmented Lagrange,\n",
    "    - Gradient-based,\n",
    "    - Extensions of the simplex algortihm.\n",
    "    \n",
    "## Problem Formulation\n",
    "Our objective is to find $\\mathbf{x}\\in\\mathbb{R}^n$ in the following problem:\n",
    "\n",
    "\\begin{align}\n",
    "\\text{minimize}\\  & \\frac{1}{2}\\mathbf{x}^T Q \\mathbf{x} + \\mathbf{c}^T\\mathbf{x}, \\\\\n",
    "\\text{subject to } & \\\\\n",
    "& A\\mathbf{x} \\ \\leq \\mathbf{b}, \\\\\n",
    "\\end{align}\n",
    "where\n",
    "- $\\mathbf{c} \\in \\mathbb{R}^n$,\n",
    "- $Q \\in \\mathbb{R}^{n \\times n}$,\n",
    "- $A \\in \\mathbb{R}^{m \\times n}$,\n",
    "- $\\mathbf{b} \\in \\mathbb{R}^{m}$.\n",
    "\n",
    "## Coding in Python\n",
    "The model:\n",
    "\\begin{align}\n",
    "\\text{minimize}\\  & x^2 + 2y^2 + \\frac{1}{2}z^2 , \\\\\n",
    "\\text{subject to } & \\\\\n",
    "& x + 3y + 2z \\geq 5, \\\\\n",
    "& y + z \\geq 2.5, \\\\\n",
    "& x, y \\geq 0, \\\\\n",
    "& y \\in \\mathbb{Z} \\\\\n",
    "& z \\in \\{0, 1\\}\n",
    "\\end{align}\n",
    "### Step 1: Import Package"
   ]
  },
  {
   "cell_type": "code",
   "execution_count": null,
   "metadata": {},
   "outputs": [],
   "source": [
    "from gurobipy import *"
   ]
  },
  {
   "cell_type": "markdown",
   "metadata": {},
   "source": [
    "### Step 2: Create a model"
   ]
  },
  {
   "cell_type": "code",
   "execution_count": null,
   "metadata": {},
   "outputs": [],
   "source": [
    "quadratic_model = Model('quadratic')"
   ]
  },
  {
   "cell_type": "markdown",
   "metadata": {},
   "source": [
    "### Step 3: Define decision variables"
   ]
  },
  {
   "cell_type": "code",
   "execution_count": null,
   "metadata": {},
   "outputs": [],
   "source": [
    "x = quadratic_model.addVar(vtype=GRB.CONTINUOUS, lb = 0, name=\"x\")\n",
    "y = quadratic_model.addVar(vtype=GRB.INTEGER, lb = 0, name=\"y\")\n",
    "z = quadratic_model.addVar(vtype=GRB.BINARY, name=\"z\")"
   ]
  },
  {
   "cell_type": "markdown",
   "metadata": {},
   "source": [
    "### Step 4: Define the objective function"
   ]
  },
  {
   "cell_type": "code",
   "execution_count": null,
   "metadata": {},
   "outputs": [],
   "source": [
    "obj_fn = x**2 + 2*y**2 + 0.5*z**2\n",
    "quadratic_model.setObjective(obj_fn, GRB.MINIMIZE)"
   ]
  },
  {
   "cell_type": "markdown",
   "metadata": {},
   "source": [
    "### Step 5: Add constraints"
   ]
  },
  {
   "cell_type": "code",
   "execution_count": null,
   "metadata": {},
   "outputs": [],
   "source": [
    "# x + 3y + 2z >= 5\n",
    "quadratic_model.addConstr(x + 3*y + 2*z >= 5)\n",
    "# y + z >= 2.5\n",
    "quadratic_model.addConstr(y + z >= 2.5)"
   ]
  },
  {
   "cell_type": "markdown",
   "metadata": {},
   "source": [
    "### Step 6: Solve model and output the result"
   ]
  },
  {
   "cell_type": "code",
   "execution_count": null,
   "metadata": {},
   "outputs": [],
   "source": [
    "quadratic_model.setParam('OutputFlag',False)\n",
    "quadratic_model.optimize()\n",
    "\n",
    "print('Optimization is done. Objective Function Value: %.2f' % quadratic_model.objVal)\n",
    "# Get values of the decision variables\n",
    "for v in quadratic_model.getVars():\n",
    "    print('%s: %g' % (v.varName, v.x))"
   ]
  },
  {
   "cell_type": "markdown",
   "metadata": {},
   "source": [
    "### Extras: Update the type of a decision variable\n",
    "\n",
    "Let us change the requirement of integrality on the decision variable $y$:"
   ]
  },
  {
   "cell_type": "code",
   "execution_count": null,
   "metadata": {},
   "outputs": [],
   "source": [
    "y.vType = GRB.CONTINUOUS\n",
    "\n",
    "quadratic_model.optimize()\n",
    "\n",
    "print('Optimization is done. Objective Function Value: %.2f' % quadratic_model.objVal)\n",
    "# Get values of the decision variables\n",
    "for v in quadratic_model.getVars():\n",
    "    print('%s: %g' % (v.varName, v.x))"
   ]
  },
  {
   "cell_type": "markdown",
   "metadata": {},
   "source": [
    "### Extras: Add a quadratic constraint\n",
    "\n",
    "Let us add a quadratic constraint: $x^2 \\geq y^2 + z^2$"
   ]
  },
  {
   "cell_type": "code",
   "execution_count": null,
   "metadata": {},
   "outputs": [],
   "source": [
    "quadratic_model.addConstr(z**2 + y**2 <= x**2)\n",
    "\n",
    "quadratic_model.optimize()\n",
    "\n",
    "print('Optimization is done. Objective Function Value: %.2f' % quadratic_model.objVal)\n",
    "# Get values of the decision variables\n",
    "for v in quadratic_model.getVars():\n",
    "    print('%s: %g' % (v.varName, v.x))"
   ]
  }
 ],
 "metadata": {
  "kernelspec": {
   "display_name": "Python 3",
   "language": "python",
   "name": "python3"
  },
  "language_info": {
   "codemirror_mode": {
    "name": "ipython",
    "version": 3
   },
   "file_extension": ".py",
   "mimetype": "text/x-python",
   "name": "python",
   "nbconvert_exporter": "python",
   "pygments_lexer": "ipython3",
   "version": "3.7.10"
  }
 },
 "nbformat": 4,
 "nbformat_minor": 4
}
